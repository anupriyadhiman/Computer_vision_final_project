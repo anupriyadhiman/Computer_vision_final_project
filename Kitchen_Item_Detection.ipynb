{
 "cells": [
  {
   "attachments": {},
   "cell_type": "markdown",
   "id": "f4da7b0c",
   "metadata": {},
   "source": [
    "## Computer Vision Final Project - Six Sigma group\n",
    "### Anupriya Dhiman\n",
    "### Pranit Malik\n",
    "### Sagar S\n",
    "### Syed Nizamuddin\n",
    "### Twinkle Chavda\n",
    "### Vishnu Vardhan\n"
   ]
  },
  {
   "cell_type": "markdown",
   "id": "3fcc14e5",
   "metadata": {},
   "source": [
    "### Importing Libraries"
   ]
  },
  {
   "cell_type": "code",
   "execution_count": 1,
   "id": "0e9d6b81",
   "metadata": {},
   "outputs": [
    {
     "name": "stderr",
     "output_type": "stream",
     "text": [
      "C:\\Users\\SagarSRK\\anaconda3\\lib\\site-packages\\numpy\\_distributor_init.py:30: UserWarning: loaded more than 1 DLL from .libs:\n",
      "C:\\Users\\SagarSRK\\anaconda3\\lib\\site-packages\\numpy\\.libs\\libopenblas.FB5AE2TYXYH2IJRDKGDGQ3XBKLKTF43H.gfortran-win_amd64.dll\n",
      "C:\\Users\\SagarSRK\\anaconda3\\lib\\site-packages\\numpy\\.libs\\libopenblas.XWYDX2IKJW2NMTWSFYNGFUWKQU3LYTCZ.gfortran-win_amd64.dll\n",
      "  warnings.warn(\"loaded more than 1 DLL from .libs:\"\n"
     ]
    }
   ],
   "source": [
    "import cv2\n",
    "import os\n",
    "import numpy as np\n",
    "from sklearn.model_selection import train_test_split\n",
    "from sklearn.svm import SVC\n",
    "from sklearn.metrics import classification_report"
   ]
  },
  {
   "cell_type": "markdown",
   "id": "ea65dc18",
   "metadata": {},
   "source": [
    "### Data Preparation , Converting Color, Resizing, Flattening appending and Converting to Array"
   ]
  },
  {
   "cell_type": "code",
   "execution_count": 7,
   "id": "2b783f51",
   "metadata": {},
   "outputs": [
    {
     "name": "stdout",
     "output_type": "stream",
     "text": [
      "[[0.4627451  0.41176471 0.44705882 ... 0.14509804 0.14901961 0.15686275]\n",
      " [0.13333333 0.1372549  0.16470588 ... 0.36078431 0.35294118 0.36470588]\n",
      " [0.02352941 0.02352941 0.02352941 ... 0.07843137 0.07058824 0.08235294]\n",
      " ...\n",
      " [0.36862745 0.34901961 0.30588235 ... 0.08627451 0.08235294 0.08235294]\n",
      " [0.23921569 0.23529412 0.23137255 ... 0.12156863 0.12941176 0.12941176]\n",
      " [0.03529412 0.03137255 0.03137255 ... 0.03529412 0.03921569 0.04705882]]\n"
     ]
    }
   ],
   "source": [
    "data = []\n",
    "labels = []\n",
    "\n",
    "for folder_name in os.listdir('C:/Users/SagarSRK/Desktop/DS/'):\n",
    "    for image_name in os.listdir('C:/Users/SagarSRK/Desktop/DS/' + folder_name):\n",
    "        image_path = 'C:/Users/SagarSRK/Desktop/DS/' + folder_name + '/' + image_name\n",
    "        image = cv2.imread(image_path)\n",
    "        image = cv2.cvtColor(image, cv2.COLOR_BGR2GRAY)\n",
    "        image = cv2.resize(image, (128, 128))\n",
    "        data.append(image.flatten())\n",
    "        labels.append(folder_name)\n",
    "        \n",
    "\n",
    "data = np.array(data, dtype='float') / 255.0\n",
    "\n",
    "print(data)"
   ]
  },
  {
   "cell_type": "markdown",
   "id": "bec8c444",
   "metadata": {},
   "source": [
    "### Splitting the dataset into training and testing sets"
   ]
  },
  {
   "cell_type": "code",
   "execution_count": 126,
   "id": "bb837e5a",
   "metadata": {},
   "outputs": [
    {
     "data": {
      "text/plain": [
       "array([[0.01568627, 0.01960784, 0.01960784, ..., 0.12156863, 0.12941176,\n",
       "        0.1254902 ],\n",
       "       [0.07843137, 0.07058824, 0.06666667, ..., 0.49019608, 0.48627451,\n",
       "        0.4745098 ],\n",
       "       [0.00784314, 0.00784314, 0.00784314, ..., 0.18823529, 0.20392157,\n",
       "        0.21176471],\n",
       "       ...,\n",
       "       [0.02745098, 0.02352941, 0.02352941, ..., 0.49411765, 0.50196078,\n",
       "        0.50588235],\n",
       "       [0.08627451, 0.08627451, 0.08235294, ..., 0.10980392, 0.11764706,\n",
       "        0.10980392],\n",
       "       [0.49411765, 0.49803922, 0.51372549, ..., 0.05490196, 0.04313725,\n",
       "        0.03529412]])"
      ]
     },
     "execution_count": 126,
     "metadata": {},
     "output_type": "execute_result"
    }
   ],
   "source": [
    "(trainX, testX, trainY, testY) = train_test_split(data, labels, test_size=0.50, random_state=50)\n",
    "\n",
    "trainX"
   ]
  },
  {
   "cell_type": "markdown",
   "id": "6f8ef215",
   "metadata": {},
   "source": [
    "### Model selection and training with Multiple Models"
   ]
  },
  {
   "cell_type": "markdown",
   "id": "fe9efbea",
   "metadata": {},
   "source": [
    "### Logistic Regression"
   ]
  },
  {
   "cell_type": "code",
   "execution_count": 127,
   "id": "7cbfb092",
   "metadata": {},
   "outputs": [
    {
     "name": "stdout",
     "output_type": "stream",
     "text": [
      "              precision    recall  f1-score   support\n",
      "\n",
      "    Chickpea       0.50      0.49      0.49        41\n",
      "        Rice       0.21      0.27      0.24        22\n",
      "     Toordal       0.47      0.35      0.40        23\n",
      "\n",
      "    accuracy                           0.40        86\n",
      "   macro avg       0.39      0.37      0.38        86\n",
      "weighted avg       0.42      0.40      0.40        86\n",
      "\n"
     ]
    }
   ],
   "source": [
    "from sklearn.linear_model import LogisticRegression\n",
    "model = LogisticRegression(max_iter=1000)\n",
    "model.fit(trainX,trainY)\n",
    "y_pred = model.predict(testX)\n",
    "print(classification_report(testY, y_pred))"
   ]
  },
  {
   "cell_type": "code",
   "execution_count": 139,
   "id": "2d26dbaa",
   "metadata": {},
   "outputs": [
    {
     "name": "stdout",
     "output_type": "stream",
     "text": [
      "Predicted class:  Toordal\n"
     ]
    }
   ],
   "source": [
    "image = cv2.imread('C:/Users/SagarSRK/Desktop/DS/Toordal/ToorDal (28).JPEG')\n",
    "image = cv2.cvtColor(image, cv2.COLOR_BGR2GRAY)\n",
    "image = cv2.resize(image, (128, 128))\n",
    "image = image.flatten() / 255.0\n",
    "prediction = model.predict_proba([image])\n",
    "from sklearn.preprocessing import LabelEncoder\n",
    "le = LabelEncoder()\n",
    "le.fit(labels)\n",
    "predicted_class = np.argmax(prediction, axis=1)\n",
    "predicted_class_name = le.inverse_transform(predicted_class)\n",
    "print(\"Predicted class: \", predicted_class_name[0])"
   ]
  },
  {
   "cell_type": "markdown",
   "id": "0ec501a7",
   "metadata": {},
   "source": [
    "### Random forest"
   ]
  },
  {
   "cell_type": "code",
   "execution_count": 129,
   "id": "86c1af5b",
   "metadata": {},
   "outputs": [
    {
     "name": "stdout",
     "output_type": "stream",
     "text": [
      "              precision    recall  f1-score   support\n",
      "\n",
      "    Chickpea       0.58      0.78      0.67        41\n",
      "        Rice       0.44      0.32      0.37        22\n",
      "     Toordal       0.53      0.35      0.42        23\n",
      "\n",
      "    accuracy                           0.55        86\n",
      "   macro avg       0.52      0.48      0.49        86\n",
      "weighted avg       0.53      0.55      0.52        86\n",
      "\n"
     ]
    }
   ],
   "source": [
    "from sklearn.ensemble import RandomForestClassifier\n",
    "model = RandomForestClassifier(n_estimators=100, random_state=42)\n",
    "model.fit(trainX, trainY)\n",
    "y_pred = model.predict(testX)\n",
    "y_pred = model.predict(testX)\n",
    "print(classification_report(testY, y_pred))"
   ]
  },
  {
   "cell_type": "code",
   "execution_count": 135,
   "id": "0ccd1b79",
   "metadata": {},
   "outputs": [
    {
     "name": "stdout",
     "output_type": "stream",
     "text": [
      "Predicted class:  Toordal\n"
     ]
    }
   ],
   "source": [
    "image = cv2.imread('C:/Users/SagarSRK/Desktop/DS/Toordal/ToorDal (28).JPEG')\n",
    "image = cv2.cvtColor(image, cv2.COLOR_BGR2GRAY)\n",
    "image = cv2.resize(image, (128, 128))\n",
    "image = image.flatten() / 255.0\n",
    "prediction = model.predict_proba([image])\n",
    "from sklearn.preprocessing import LabelEncoder\n",
    "le = LabelEncoder()\n",
    "le.fit(labels)\n",
    "predicted_class = np.argmax(prediction, axis=1)\n",
    "predicted_class_name = le.inverse_transform(predicted_class)\n",
    "print(\"Predicted class: \", predicted_class_name[0])"
   ]
  },
  {
   "cell_type": "markdown",
   "id": "2b649f1c",
   "metadata": {},
   "source": [
    "### Naive Bayes"
   ]
  },
  {
   "cell_type": "code",
   "execution_count": 131,
   "id": "b265036b",
   "metadata": {},
   "outputs": [
    {
     "name": "stdout",
     "output_type": "stream",
     "text": [
      "              precision    recall  f1-score   support\n",
      "\n",
      "    Chickpea       0.64      0.61      0.62        41\n",
      "        Rice       0.12      0.09      0.11        22\n",
      "     Toordal       0.45      0.61      0.52        23\n",
      "\n",
      "    accuracy                           0.48        86\n",
      "   macro avg       0.41      0.44      0.42        86\n",
      "weighted avg       0.46      0.48      0.46        86\n",
      "\n"
     ]
    }
   ],
   "source": [
    "from sklearn.naive_bayes import GaussianNB\n",
    "model = GaussianNB()\n",
    "model.fit(trainX, trainY)\n",
    "y_pred = model.predict(testX)\n",
    "y_pred = model.predict(testX)\n",
    "print(classification_report(testY, y_pred))"
   ]
  },
  {
   "cell_type": "code",
   "execution_count": 136,
   "id": "c2025a07",
   "metadata": {},
   "outputs": [
    {
     "name": "stdout",
     "output_type": "stream",
     "text": [
      "Predicted class:  Rice\n"
     ]
    }
   ],
   "source": [
    "image = cv2.imread('C:/Users/SagarSRK/Desktop/DS/Rice/Rice (14).JPEG')\n",
    "image = cv2.cvtColor(image, cv2.COLOR_BGR2GRAY)\n",
    "image = cv2.resize(image, (128, 128))\n",
    "image = image.flatten() / 255.0\n",
    "prediction = model.predict_proba([image])\n",
    "from sklearn.preprocessing import LabelEncoder\n",
    "le = LabelEncoder()\n",
    "le.fit(labels)\n",
    "predicted_class = np.argmax(prediction, axis=1)\n",
    "predicted_class_name = le.inverse_transform(predicted_class)\n",
    "print(\"Predicted class: \", predicted_class_name[0])"
   ]
  },
  {
   "cell_type": "markdown",
   "id": "1cc5fdeb",
   "metadata": {},
   "source": [
    "### KNN"
   ]
  },
  {
   "cell_type": "code",
   "execution_count": 133,
   "id": "b6aaf9ad",
   "metadata": {},
   "outputs": [
    {
     "name": "stdout",
     "output_type": "stream",
     "text": [
      "              precision    recall  f1-score   support\n",
      "\n",
      "    Chickpea       0.55      0.59      0.56        41\n",
      "        Rice       0.17      0.18      0.18        22\n",
      "     Toordal       0.53      0.43      0.48        23\n",
      "\n",
      "    accuracy                           0.44        86\n",
      "   macro avg       0.42      0.40      0.41        86\n",
      "weighted avg       0.45      0.44      0.44        86\n",
      "\n"
     ]
    },
    {
     "name": "stderr",
     "output_type": "stream",
     "text": [
      "C:\\Users\\SagarSRK\\anaconda3\\lib\\site-packages\\sklearn\\neighbors\\_classification.py:228: FutureWarning: Unlike other reduction functions (e.g. `skew`, `kurtosis`), the default behavior of `mode` typically preserves the axis it acts along. In SciPy 1.11.0, this behavior will change: the default value of `keepdims` will become False, the `axis` over which the statistic is taken will be eliminated, and the value None will no longer be accepted. Set `keepdims` to True or False to avoid this warning.\n",
      "  mode, _ = stats.mode(_y[neigh_ind, k], axis=1)\n",
      "C:\\Users\\SagarSRK\\anaconda3\\lib\\site-packages\\sklearn\\neighbors\\_classification.py:228: FutureWarning: Unlike other reduction functions (e.g. `skew`, `kurtosis`), the default behavior of `mode` typically preserves the axis it acts along. In SciPy 1.11.0, this behavior will change: the default value of `keepdims` will become False, the `axis` over which the statistic is taken will be eliminated, and the value None will no longer be accepted. Set `keepdims` to True or False to avoid this warning.\n",
      "  mode, _ = stats.mode(_y[neigh_ind, k], axis=1)\n"
     ]
    }
   ],
   "source": [
    "from sklearn.neighbors import KNeighborsClassifier\n",
    "model = KNeighborsClassifier(n_neighbors=3)\n",
    "model.fit(trainX, trainY)\n",
    "y_pred = model.predict(testX)\n",
    "y_pred = model.predict(testX)\n",
    "print(classification_report(testY, y_pred))"
   ]
  },
  {
   "cell_type": "code",
   "execution_count": 134,
   "id": "ec1b2403",
   "metadata": {},
   "outputs": [
    {
     "name": "stdout",
     "output_type": "stream",
     "text": [
      "Predicted class:  Chickpea\n"
     ]
    }
   ],
   "source": [
    "image = cv2.imread('C:/Users/SagarSRK/Desktop/DS/Chickpea/Chickpea (9).jpg')\n",
    "image = cv2.cvtColor(image, cv2.COLOR_BGR2GRAY)\n",
    "image = cv2.resize(image, (128, 128))\n",
    "image = image.flatten() / 255.0\n",
    "prediction = model.predict_proba([image])\n",
    "from sklearn.preprocessing import LabelEncoder\n",
    "le = LabelEncoder()\n",
    "le.fit(labels)\n",
    "predicted_class = np.argmax(prediction, axis=1)\n",
    "predicted_class_name = le.inverse_transform(predicted_class)\n",
    "print(\"Predicted class: \", predicted_class_name[0])"
   ]
  },
  {
   "cell_type": "code",
   "execution_count": null,
   "id": "6bd84c41",
   "metadata": {},
   "outputs": [],
   "source": []
  },
  {
   "cell_type": "code",
   "execution_count": null,
   "id": "8edb78ef",
   "metadata": {},
   "outputs": [],
   "source": []
  }
 ],
 "metadata": {
  "kernelspec": {
   "display_name": "Python 3 (ipykernel)",
   "language": "python",
   "name": "python3"
  },
  "language_info": {
   "codemirror_mode": {
    "name": "ipython",
    "version": 3
   },
   "file_extension": ".py",
   "mimetype": "text/x-python",
   "name": "python",
   "nbconvert_exporter": "python",
   "pygments_lexer": "ipython3",
   "version": "3.9.13"
  }
 },
 "nbformat": 4,
 "nbformat_minor": 5
}
